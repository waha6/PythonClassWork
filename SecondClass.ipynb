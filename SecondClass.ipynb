{
 "cells": [
  {
   "cell_type": "markdown",
   "metadata": {},
   "source": [
    "# Multi-Line String and Multi-Line Comment"
   ]
  },
  {
   "cell_type": "markdown",
   "metadata": {},
   "source": [
    "### how we distinguish multi-line String and Comment ?\n",
    "In Multi-Line String always will be with assignment(=) and in function argument. on the other hand In Multi-Line Comment always will not be with assignment(=) and in function argument."
   ]
  },
  {
   "cell_type": "markdown",
   "metadata": {},
   "source": [
    "### Multi-Line String"
   ]
  },
  {
   "cell_type": "code",
   "execution_count": 1,
   "metadata": {
    "collapsed": true
   },
   "outputs": [],
   "source": [
    "x=\"\"\"Hello this is multi-line string\n",
    "    in me you can write freely what you want and\n",
    "    in me you can write any no of lines and\n",
    "    in me you don't to use escape sequence for any white space.\"\"\""
   ]
  },
  {
   "cell_type": "markdown",
   "metadata": {},
   "source": [
    "### Multi-Line Comment"
   ]
  },
  {
   "cell_type": "code",
   "execution_count": 2,
   "metadata": {},
   "outputs": [
    {
     "data": {
      "text/plain": [
       "' Hello this is multi-line comment\\n    in me you can write freely what you want and\\n    in me you can write any no of lines'"
      ]
     },
     "execution_count": 2,
     "metadata": {},
     "output_type": "execute_result"
    }
   ],
   "source": [
    "\"\"\" Hello this is multi-line comment\n",
    "    in me you can write freely what you want and\n",
    "    in me you can write any no of lines\"\"\""
   ]
  },
  {
   "cell_type": "code",
   "execution_count": 3,
   "metadata": {},
   "outputs": [
    {
     "name": "stdout",
     "output_type": "stream",
     "text": [
      "Hello this is multi-line string\n",
      "    in me you can write freely what you want and\n",
      "    in me you can write any no of lines and\n",
      "    in me you don't to use escape sequence for any white space.\n"
     ]
    }
   ],
   "source": [
    "print(x) # Hai I am a single line comment you can write me in any where in your code and my life remain for only this line"
   ]
  },
  {
   "cell_type": "markdown",
   "metadata": {},
   "source": [
    "# Error of dissimilarity of type"
   ]
  },
  {
   "cell_type": "markdown",
   "metadata": {},
   "source": [
    "In python, Simplicity is more important than functionality so it doesn't have dissimilar type concatenation like java and javascript thats why it gives us Error \"unsupported operand type(s)\"."
   ]
  },
  {
   "cell_type": "code",
   "execution_count": 4,
   "metadata": {},
   "outputs": [
    {
     "ename": "TypeError",
     "evalue": "unsupported operand type(s) for +: 'int' and 'str'",
     "output_type": "error",
     "traceback": [
      "\u001b[1;31m---------------------------------------------------------------------------\u001b[0m",
      "\u001b[1;31mTypeError\u001b[0m                                 Traceback (most recent call last)",
      "\u001b[1;32m<ipython-input-4-f7a298ffafd6>\u001b[0m in \u001b[0;36m<module>\u001b[1;34m()\u001b[0m\n\u001b[0;32m      1\u001b[0m \u001b[1;32mfor\u001b[0m \u001b[0mi\u001b[0m \u001b[1;32min\u001b[0m \u001b[0mrange\u001b[0m\u001b[1;33m(\u001b[0m\u001b[1;36m1\u001b[0m\u001b[1;33m,\u001b[0m\u001b[1;36m6\u001b[0m\u001b[1;33m)\u001b[0m\u001b[1;33m:\u001b[0m\u001b[1;33m\u001b[0m\u001b[0m\n\u001b[0;32m      2\u001b[0m     \u001b[1;32mfor\u001b[0m \u001b[0mj\u001b[0m \u001b[1;32min\u001b[0m \u001b[0mrange\u001b[0m\u001b[1;33m(\u001b[0m\u001b[1;36m1\u001b[0m\u001b[1;33m,\u001b[0m\u001b[1;36m6\u001b[0m\u001b[1;33m)\u001b[0m\u001b[1;33m:\u001b[0m\u001b[1;33m\u001b[0m\u001b[0m\n\u001b[1;32m----> 3\u001b[1;33m         \u001b[0mprint\u001b[0m\u001b[1;33m(\u001b[0m\u001b[1;34m\"(\"\u001b[0m\u001b[1;33m,\u001b[0m\u001b[0mi\u001b[0m\u001b[1;33m+\u001b[0m\u001b[1;34m\",\"\u001b[0m\u001b[1;33m+\u001b[0m\u001b[0mj\u001b[0m\u001b[1;33m,\u001b[0m\u001b[1;34m\")\"\u001b[0m\u001b[1;33m)\u001b[0m\u001b[1;33m\u001b[0m\u001b[0m\n\u001b[0m",
      "\u001b[1;31mTypeError\u001b[0m: unsupported operand type(s) for +: 'int' and 'str'"
     ]
    }
   ],
   "source": [
    "for i in range(1,6):\n",
    "    for j in range(1,6):\n",
    "        print(\"(\",i+\",\"+j,\")\")"
   ]
  },
  {
   "cell_type": "markdown",
   "metadata": {},
   "source": [
    "In Above print statement on second argument, we have error because we try to concatenation of dissimilar types, But In Below print statement on second argument, we use <b>str</b> function for converting <b>int</b> to <b>string</b> for make them same types for performing concatenation"
   ]
  },
  {
   "cell_type": "code",
   "execution_count": 5,
   "metadata": {},
   "outputs": [
    {
     "name": "stdout",
     "output_type": "stream",
     "text": [
      "( 1,1 )\n",
      "( 1,2 )\n",
      "( 1,3 )\n",
      "( 1,4 )\n",
      "( 1,5 )\n",
      "( 2,1 )\n",
      "( 2,2 )\n",
      "( 2,3 )\n",
      "( 2,4 )\n",
      "( 2,5 )\n",
      "( 3,1 )\n",
      "( 3,2 )\n",
      "( 3,3 )\n",
      "( 3,4 )\n",
      "( 3,5 )\n",
      "( 4,1 )\n",
      "( 4,2 )\n",
      "( 4,3 )\n",
      "( 4,4 )\n",
      "( 4,5 )\n",
      "( 5,1 )\n",
      "( 5,2 )\n",
      "( 5,3 )\n",
      "( 5,4 )\n",
      "( 5,5 )\n"
     ]
    }
   ],
   "source": [
    "for i in range(1,6):\n",
    "    for j in range(1,6):\n",
    "        print(\"(\",str(i)+\",\"+str(j),\")\")"
   ]
  },
  {
   "cell_type": "code",
   "execution_count": 6,
   "metadata": {},
   "outputs": [
    {
     "ename": "TypeError",
     "evalue": "must be str, not int",
     "output_type": "error",
     "traceback": [
      "\u001b[1;31m---------------------------------------------------------------------------\u001b[0m",
      "\u001b[1;31mTypeError\u001b[0m                                 Traceback (most recent call last)",
      "\u001b[1;32m<ipython-input-6-06418f48f5d8>\u001b[0m in \u001b[0;36m<module>\u001b[1;34m()\u001b[0m\n\u001b[1;32m----> 1\u001b[1;33m \u001b[1;34m'2'\u001b[0m\u001b[1;33m+\u001b[0m\u001b[1;36m2\u001b[0m\u001b[1;33m\u001b[0m\u001b[0m\n\u001b[0m",
      "\u001b[1;31mTypeError\u001b[0m: must be str, not int"
     ]
    }
   ],
   "source": [
    "'2'+2"
   ]
  },
  {
   "cell_type": "code",
   "execution_count": 7,
   "metadata": {},
   "outputs": [
    {
     "ename": "ValueError",
     "evalue": "invalid literal for int() with base 10: 'a'",
     "output_type": "error",
     "traceback": [
      "\u001b[1;31m---------------------------------------------------------------------------\u001b[0m",
      "\u001b[1;31mValueError\u001b[0m                                Traceback (most recent call last)",
      "\u001b[1;32m<ipython-input-7-b3c3f4515dd4>\u001b[0m in \u001b[0;36m<module>\u001b[1;34m()\u001b[0m\n\u001b[1;32m----> 1\u001b[1;33m \u001b[0mint\u001b[0m\u001b[1;33m(\u001b[0m\u001b[1;34m'a'\u001b[0m\u001b[1;33m)\u001b[0m\u001b[1;33m\u001b[0m\u001b[0m\n\u001b[0m",
      "\u001b[1;31mValueError\u001b[0m: invalid literal for int() with base 10: 'a'"
     ]
    }
   ],
   "source": [
    "int('a')"
   ]
  },
  {
   "cell_type": "code",
   "execution_count": 8,
   "metadata": {},
   "outputs": [
    {
     "data": {
      "text/plain": [
       "4"
      ]
     },
     "execution_count": 8,
     "metadata": {},
     "output_type": "execute_result"
    }
   ],
   "source": [
    "int('2')+2"
   ]
  },
  {
   "cell_type": "code",
   "execution_count": 9,
   "metadata": {},
   "outputs": [
    {
     "data": {
      "text/plain": [
       "'123'"
      ]
     },
     "execution_count": 9,
     "metadata": {},
     "output_type": "execute_result"
    }
   ],
   "source": [
    "str(123)"
   ]
  },
  {
   "cell_type": "code",
   "execution_count": 10,
   "metadata": {},
   "outputs": [
    {
     "data": {
      "text/plain": [
       "'22'"
      ]
     },
     "execution_count": 10,
     "metadata": {},
     "output_type": "execute_result"
    }
   ],
   "source": [
    "'2'+str(2)"
   ]
  },
  {
   "cell_type": "code",
   "execution_count": 11,
   "metadata": {},
   "outputs": [
    {
     "name": "stdout",
     "output_type": "stream",
     "text": [
      "1 23 54\n"
     ]
    }
   ],
   "source": [
    "print(1,23,54)"
   ]
  },
  {
   "cell_type": "markdown",
   "metadata": {},
   "source": [
    "# Specify Region in multi regions"
   ]
  },
  {
   "cell_type": "code",
   "execution_count": 12,
   "metadata": {},
   "outputs": [
    {
     "name": "stdout",
     "output_type": "stream",
     "text": [
      "( 1,1 )\n",
      "=====> 1\n",
      "( 1,2 )\n",
      "=====> 1\n",
      "( 1,3 )\n",
      "=====> 1\n",
      "( 1,4 )\n",
      "=====> 1\n",
      "( 1,5 )\n",
      "=====> 1\n",
      "( 2,1 )\n",
      "=====> 2\n",
      "( 2,2 )\n",
      "=====> 2\n",
      "( 2,3 )\n",
      "=====> 2\n",
      "( 2,4 )\n",
      "=====> 2\n",
      "( 2,5 )\n",
      "=====> 2\n",
      "( 3,1 )\n",
      "=====> 3\n",
      "( 3,2 )\n",
      "=====> 3\n",
      "( 3,3 )\n",
      "=====> 3\n",
      "( 3,4 )\n",
      "=====> 3\n",
      "( 3,5 )\n",
      "=====> 3\n",
      "( 4,1 )\n",
      "=====> 4\n",
      "( 4,2 )\n",
      "=====> 4\n",
      "( 4,3 )\n",
      "=====> 4\n",
      "( 4,4 )\n",
      "=====> 4\n",
      "( 4,5 )\n",
      "=====> 4\n",
      "( 5,1 )\n",
      "=====> 5\n",
      "( 5,2 )\n",
      "=====> 5\n",
      "( 5,3 )\n",
      "=====> 5\n",
      "( 5,4 )\n",
      "=====> 5\n",
      "( 5,5 )\n",
      "=====> 5\n"
     ]
    }
   ],
   "source": [
    "for i in range(1,6):\n",
    "    for j in range(1,6):\n",
    "        print(\"(\",str(i)+\",\"+str(j),\")\")\n",
    "        print(\"=====>\",i)"
   ]
  },
  {
   "cell_type": "markdown",
   "metadata": {},
   "source": [
    "In Above and Below statement, we have only 4 space differece but you can see large difference in their code output so why it is.\n",
    "that 4 space define region of second print function. In above, Second print function is part of inner loop so thats why it call every time But In below, Second print fucntion is part of outer loop so thats why it call when outer loops and in outer have 5 step but In inner have 25 (5*5) steps."
   ]
  },
  {
   "cell_type": "code",
   "execution_count": 13,
   "metadata": {},
   "outputs": [
    {
     "name": "stdout",
     "output_type": "stream",
     "text": [
      "( 1,1 )\n",
      "( 1,2 )\n",
      "( 1,3 )\n",
      "( 1,4 )\n",
      "( 1,5 )\n",
      "=====> 1\n",
      "( 2,1 )\n",
      "( 2,2 )\n",
      "( 2,3 )\n",
      "( 2,4 )\n",
      "( 2,5 )\n",
      "=====> 2\n",
      "( 3,1 )\n",
      "( 3,2 )\n",
      "( 3,3 )\n",
      "( 3,4 )\n",
      "( 3,5 )\n",
      "=====> 3\n",
      "( 4,1 )\n",
      "( 4,2 )\n",
      "( 4,3 )\n",
      "( 4,4 )\n",
      "( 4,5 )\n",
      "=====> 4\n",
      "( 5,1 )\n",
      "( 5,2 )\n",
      "( 5,3 )\n",
      "( 5,4 )\n",
      "( 5,5 )\n",
      "=====> 5\n"
     ]
    }
   ],
   "source": [
    "for i in range(1,6):\n",
    "    for j in range(1,6):\n",
    "        print(\"(\",str(i)+\",\"+str(j),\")\")\n",
    "    print(\"=====>\",i)"
   ]
  },
  {
   "cell_type": "markdown",
   "metadata": {},
   "source": [
    "# Define functions"
   ]
  },
  {
   "cell_type": "markdown",
   "metadata": {},
   "source": [
    "In python, def keyword use for creating functions and after def we give our function name and after function we give arguments in parenthese () and for end for condition block we put colon (:) for specify starting of block of statement for function"
   ]
  },
  {
   "cell_type": "markdown",
   "metadata": {},
   "source": [
    "In python, Function have 3 types of argument.\n",
    "1. Positional Argument.\n",
    "2. Default Value Argument.\n",
    "3. Keyword Argument."
   ]
  },
  {
   "cell_type": "markdown",
   "metadata": {},
   "source": [
    "In above 2 and 3 also known as \"Optional Argument\""
   ]
  },
  {
   "cell_type": "markdown",
   "metadata": {},
   "source": [
    "### No argument Function"
   ]
  },
  {
   "cell_type": "code",
   "execution_count": 14,
   "metadata": {
    "collapsed": true
   },
   "outputs": [],
   "source": [
    "def sum():   print(1)"
   ]
  },
  {
   "cell_type": "code",
   "execution_count": 15,
   "metadata": {},
   "outputs": [
    {
     "name": "stdout",
     "output_type": "stream",
     "text": [
      "1\n"
     ]
    }
   ],
   "source": [
    "sum()"
   ]
  },
  {
   "cell_type": "markdown",
   "metadata": {},
   "source": [
    "### Positional Argument"
   ]
  },
  {
   "cell_type": "code",
   "execution_count": 16,
   "metadata": {
    "collapsed": true
   },
   "outputs": [],
   "source": [
    "def sum(x,y):   print(x+y)"
   ]
  },
  {
   "cell_type": "code",
   "execution_count": 17,
   "metadata": {},
   "outputs": [
    {
     "name": "stdout",
     "output_type": "stream",
     "text": [
      "3\n"
     ]
    }
   ],
   "source": [
    "sum(1,2)"
   ]
  },
  {
   "cell_type": "markdown",
   "metadata": {},
   "source": [
    "#### Error of positional argument"
   ]
  },
  {
   "cell_type": "code",
   "execution_count": 18,
   "metadata": {},
   "outputs": [
    {
     "ename": "TypeError",
     "evalue": "sum() missing 2 required positional arguments: 'x' and 'y'",
     "output_type": "error",
     "traceback": [
      "\u001b[1;31m---------------------------------------------------------------------------\u001b[0m",
      "\u001b[1;31mTypeError\u001b[0m                                 Traceback (most recent call last)",
      "\u001b[1;32m<ipython-input-18-8dbc77efb17b>\u001b[0m in \u001b[0;36m<module>\u001b[1;34m()\u001b[0m\n\u001b[1;32m----> 1\u001b[1;33m \u001b[0msum\u001b[0m\u001b[1;33m(\u001b[0m\u001b[1;33m)\u001b[0m\u001b[1;33m\u001b[0m\u001b[0m\n\u001b[0m",
      "\u001b[1;31mTypeError\u001b[0m: sum() missing 2 required positional arguments: 'x' and 'y'"
     ]
    }
   ],
   "source": [
    "sum()"
   ]
  },
  {
   "cell_type": "code",
   "execution_count": 19,
   "metadata": {},
   "outputs": [
    {
     "name": "stdout",
     "output_type": "stream",
     "text": [
      "ab\n"
     ]
    }
   ],
   "source": [
    "sum('a','b')"
   ]
  },
  {
   "cell_type": "markdown",
   "metadata": {},
   "source": [
    "### Default value Argument"
   ]
  },
  {
   "cell_type": "code",
   "execution_count": 21,
   "metadata": {
    "collapsed": true
   },
   "outputs": [],
   "source": [
    "def sum(x,y=0): print(x+y)"
   ]
  },
  {
   "cell_type": "code",
   "execution_count": 22,
   "metadata": {},
   "outputs": [
    {
     "name": "stdout",
     "output_type": "stream",
     "text": [
      "3\n"
     ]
    }
   ],
   "source": [
    "sum(1,2)"
   ]
  },
  {
   "cell_type": "code",
   "execution_count": 23,
   "metadata": {},
   "outputs": [
    {
     "name": "stdout",
     "output_type": "stream",
     "text": [
      "1\n"
     ]
    }
   ],
   "source": [
    "sum(1)"
   ]
  },
  {
   "cell_type": "markdown",
   "metadata": {},
   "source": [
    "### Keyword Argument"
   ]
  },
  {
   "cell_type": "code",
   "execution_count": 24,
   "metadata": {},
   "outputs": [
    {
     "name": "stdout",
     "output_type": "stream",
     "text": [
      "3\n"
     ]
    }
   ],
   "source": [
    "sum(1,y=2)"
   ]
  }
 ],
 "metadata": {
  "kernelspec": {
   "display_name": "Python 3",
   "language": "python",
   "name": "python3"
  },
  "language_info": {
   "codemirror_mode": {
    "name": "ipython",
    "version": 3
   },
   "file_extension": ".py",
   "mimetype": "text/x-python",
   "name": "python",
   "nbconvert_exporter": "python",
   "pygments_lexer": "ipython3",
   "version": "3.6.1"
  }
 },
 "nbformat": 4,
 "nbformat_minor": 2
}
